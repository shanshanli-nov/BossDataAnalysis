{
 "cells": [
  {
   "cell_type": "code",
   "execution_count": 3,
   "id": "171dc427",
   "metadata": {},
   "outputs": [],
   "source": [
    "import pandas as pd\n",
    "import numpy as np\n",
    "from matplotlib import pyplot as plt\n",
    "from pyecharts import options as opts\n",
    "from pyecharts.charts import Bar, Line, Pie, Grid\n",
    "import json"
   ]
  },
  {
   "cell_type": "code",
   "execution_count": 4,
   "id": "c630eabc",
   "metadata": {},
   "outputs": [],
   "source": [
    "# import data\n",
    "all_data = []\n",
    "for i in range(1,11):\n",
    "    with open('page%d.json' % i, \"r\", encoding = 'utf-8') as file:\n",
    "        data = file.read()\n",
    "        data1 = json.loads(data).get(\"zpData\").get(\"jobList\")\n",
    "        data_list_tran = []\n",
    "        for i in data1:\n",
    "            d = dict()\n",
    "            for key, value in i.items():\n",
    "                \n",
    "                d[key] = value\n",
    "                if isinstance(value, list):\n",
    "                    s = \"\"\n",
    "                    for item in value:\n",
    "                        s += str(item)+\"/\"\n",
    "                    val = s\n",
    "                    d[key] = val\n",
    "                if isinstance(value, dict):\n",
    "                    d[key] = json.dumps(value)\n",
    "            data_list_tran.append(d)\n",
    "    all_data.extend(data_list_tran)"
   ]
  },
  {
   "cell_type": "code",
   "execution_count": 5,
   "id": "d5a268e9",
   "metadata": {},
   "outputs": [],
   "source": [
    "# convert to DataFrame\n",
    "df = pd.DataFrame(all_data)"
   ]
  },
  {
   "cell_type": "code",
   "execution_count": null,
   "id": "040e2485",
   "metadata": {},
   "outputs": [],
   "source": []
  }
 ],
 "metadata": {
  "kernelspec": {
   "display_name": "base",
   "language": "python",
   "name": "python3"
  },
  "language_info": {
   "codemirror_mode": {
    "name": "ipython",
    "version": 3
   },
   "file_extension": ".py",
   "mimetype": "text/x-python",
   "name": "python",
   "nbconvert_exporter": "python",
   "pygments_lexer": "ipython3",
   "version": "3.12.3"
  }
 },
 "nbformat": 4,
 "nbformat_minor": 5
}
