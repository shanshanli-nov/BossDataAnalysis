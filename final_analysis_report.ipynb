{
 "cells": [
  {
   "cell_type": "code",
   "execution_count": null,
   "id": "171dc427",
   "metadata": {},
   "outputs": [],
   "source": [
    "# import modules\n",
    "import pandas as pd\n",
    "import numpy as np\n",
    "from matplotlib import pyplot as plt\n",
    "from pyecharts import options as opts\n",
    "from pyecharts.charts import Bar, Line, Pie, Grid, WordCloud\n",
    "import json"
   ]
  },
  {
   "cell_type": "code",
   "execution_count": null,
   "id": "c630eabc",
   "metadata": {},
   "outputs": [],
   "source": [
    "# import data\n",
    "all_data = []\n",
    "for i in range(1,11):\n",
    "    with open('page%d.json' % i, \"r\", encoding = 'utf-8') as file:\n",
    "        data = file.read()\n",
    "        data1 = json.loads(data).get(\"zpData\").get(\"jobList\")\n",
    "        data_list_tran = []\n",
    "        for i in data1:\n",
    "            d = dict()\n",
    "            for key, value in i.items():\n",
    "                \n",
    "                d[key] = value\n",
    "                if isinstance(value, list):\n",
    "                    s = \"\"\n",
    "                    for item in value:\n",
    "                        s += str(item)+\"/\"\n",
    "                    val = s\n",
    "                    d[key] = val\n",
    "                if isinstance(value, dict):\n",
    "                    d[key] = json.dumps(value)\n",
    "            data_list_tran.append(d)\n",
    "    all_data.extend(data_list_tran)"
   ]
  },
  {
   "cell_type": "code",
   "execution_count": null,
   "id": "d5a268e9",
   "metadata": {},
   "outputs": [],
   "source": [
    "# convert to DataFrame\n",
    "df = pd.DataFrame(all_data)"
   ]
  },
  {
   "cell_type": "code",
   "execution_count": null,
   "id": "040e2485",
   "metadata": {},
   "outputs": [],
   "source": [
    "# check data; 300 entries, 48 columns, some columns have missing values\n",
    "df.info() "
   ]
  },
  {
   "cell_type": "code",
   "execution_count": null,
   "id": "cde8e5f5",
   "metadata": {},
   "outputs": [],
   "source": [
    "# show all columns\n",
    "pd.set_option('display.max_columns', None)"
   ]
  },
  {
   "cell_type": "code",
   "execution_count": null,
   "id": "4f204266",
   "metadata": {},
   "outputs": [],
   "source": [
    "df.head()"
   ]
  },
  {
   "cell_type": "markdown",
   "id": "57334362",
   "metadata": {},
   "source": [
    "##### data exploratory, variable used\n",
    "+ securityId\n",
    "+ skills\n",
    "+ jobExperience\n",
    "+ jobDegree\n",
    "+ brandStageName\n",
    "+ brandIndustry\n",
    "+ salaryDesc"
   ]
  },
  {
   "cell_type": "markdown",
   "id": "744c90b6",
   "metadata": {},
   "source": [
    "##### skills, wordcloud"
   ]
  },
  {
   "cell_type": "code",
   "execution_count": null,
   "id": "b315b74d",
   "metadata": {},
   "outputs": [],
   "source": [
    "# check variable skills\n",
    "df['skills']"
   ]
  },
  {
   "cell_type": "code",
   "execution_count": null,
   "id": "42bbcf1f",
   "metadata": {},
   "outputs": [],
   "source": [
    "# import module\n",
    "import jieba\n",
    "from collections import Counter"
   ]
  },
  {
   "cell_type": "code",
   "execution_count": null,
   "id": "057ed2ea",
   "metadata": {},
   "outputs": [],
   "source": [
    "# convert skills to a string\n",
    "skills_str = '/'.join(df['skills'].dropna())"
   ]
  },
  {
   "cell_type": "code",
   "execution_count": null,
   "id": "4e578360",
   "metadata": {},
   "outputs": [],
   "source": [
    "# cut skills string\n",
    "# jieba is a Chinese text segmentation module\n",
    "s = list(jieba.cut(skills_str))"
   ]
  },
  {
   "cell_type": "code",
   "execution_count": null,
   "id": "07e5f360",
   "metadata": {},
   "outputs": [],
   "source": [
    "# create a Counter object to count the frequency of each skill\n",
    "counter = Counter(s)"
   ]
  },
  {
   "cell_type": "code",
   "execution_count": null,
   "id": "76f3769e",
   "metadata": {},
   "outputs": [],
   "source": [
    "# remove stopwords\n",
    "def remove_stopwords(stopwordspath, counter):\n",
    "    with open(stopwordspath, 'r', encoding='utf-8') as f:\n",
    "        content = f.readlines()\n",
    "        for c in content:\n",
    "            c = c.strip()\n",
    "            if c in counter:\n",
    "                counter.pop(c)\n",
    "    return counter"
   ]
  },
  {
   "cell_type": "code",
   "execution_count": null,
   "id": "76eef666",
   "metadata": {},
   "outputs": [],
   "source": [
    "# remove stopwords from different stopword files\n",
    "counter = remove_stopwords('baidu_stopwords.txt', counter)\n",
    "counter = remove_stopwords('cn_stopwords.txt', counter)\n",
    "counter = remove_stopwords('hit_stopwords.txt', counter)\n",
    "counter = remove_stopwords('scu_stopwords.txt', counter)"
   ]
  },
  {
   "cell_type": "code",
   "execution_count": null,
   "id": "4da69075",
   "metadata": {},
   "outputs": [],
   "source": [
    "wc_data = list(counter.items())"
   ]
  },
  {
   "cell_type": "code",
   "execution_count": null,
   "id": "9878b107",
   "metadata": {},
   "outputs": [],
   "source": [
    "wc = WordCloud()\n",
    "wc.add(\"\", data_pair=wc_data)\n",
    "wc.set_global_opts(title_opts=opts.TitleOpts(title=\"Skills Word Cloud\"))\n",
    "wc.render_notebook()"
   ]
  },
  {
   "cell_type": "markdown",
   "id": "2d60e4bc",
   "metadata": {},
   "source": [
    "- From the word cloud, we can see that job experience is very important. You should have related background, like computer science, maths, statistic, etc. Tools like python, sql, R, data mining are also required. "
   ]
  },
  {
   "cell_type": "markdown",
   "id": "ce7c35f0",
   "metadata": {},
   "source": [
    "##### jobLabels"
   ]
  },
  {
   "cell_type": "code",
   "execution_count": null,
   "id": "7089e5a5",
   "metadata": {},
   "outputs": [],
   "source": [
    "df['jobExperience']"
   ]
  },
  {
   "cell_type": "code",
   "execution_count": null,
   "id": "dc6ecee8",
   "metadata": {},
   "outputs": [],
   "source": [
    "df1 = df.groupby('jobExperience').agg({'securityId': 'count'})"
   ]
  },
  {
   "cell_type": "code",
   "execution_count": null,
   "id": "26945c87",
   "metadata": {},
   "outputs": [],
   "source": [
    "df1"
   ]
  },
  {
   "cell_type": "code",
   "execution_count": null,
   "id": "5401a882",
   "metadata": {},
   "outputs": [],
   "source": [
    "# sort by hand\n",
    "df2 = df1.loc[[\"经验不限\", \"在校/应届\", \"1年以内\", \"1-3年\", \"3-5年\", \"5-10年\", \"10年以上\"]]"
   ]
  },
  {
   "cell_type": "code",
   "execution_count": null,
   "id": "1a84dddd",
   "metadata": {},
   "outputs": [],
   "source": [
    "# create a new column 'total' to calculate the cumulative sum of 'securityId'\n",
    "df2['total']= df2['securityId'].cumsum()"
   ]
  },
  {
   "cell_type": "code",
   "execution_count": null,
   "id": "3fad5fe8",
   "metadata": {},
   "outputs": [],
   "source": [
    "# calculate the rate of each job experience\n",
    "df2['rate'] = round(df2['total']/df2['securityId'].sum(), 2)"
   ]
  },
  {
   "cell_type": "code",
   "execution_count": null,
   "id": "74866f5e",
   "metadata": {},
   "outputs": [],
   "source": [
    "df2['rate2'] = round(df2['securityId']/df2['securityId'].sum(), 2)"
   ]
  },
  {
   "cell_type": "code",
   "execution_count": null,
   "id": "a9cf178b",
   "metadata": {},
   "outputs": [],
   "source": [
    "df2"
   ]
  },
  {
   "cell_type": "code",
   "execution_count": null,
   "id": "2c8bbb81",
   "metadata": {},
   "outputs": [],
   "source": [
    "pie = Pie()\n",
    "pie.add(\n",
    "    series_name=\"\",\n",
    "    data_pair=[list(z) for z in zip(df2.index, df2['rate2'])],\n",
    "    radius=[\"30%\", \"75%\"],\n",
    "    center=[\"50%\", \"50%\"],\n",
    "    label_opts=opts.LabelOpts(formatter=\"{b}: {d}%\")\n",
    ")\n",
    "pie.set_global_opts(title_opts=opts.TitleOpts(title=\"Job Experience Distribution\", pos_left=\"left\", pos_top=\"0.5%\"),\n",
    "                     legend_opts=opts.LegendOpts(pos_left=\"right\", orient=\"vertical\")\n",
    "                    )\n",
    "pie.render_notebook()"
   ]
  },
  {
   "cell_type": "markdown",
   "id": "f7e56410",
   "metadata": {},
   "source": [
    "- According to the data, people with 3 to 5 years experience can satisfy 90% job requirement."
   ]
  },
  {
   "cell_type": "markdown",
   "id": "2e7777eb",
   "metadata": {},
   "source": [
    "##### jobDegree"
   ]
  },
  {
   "cell_type": "code",
   "execution_count": null,
   "id": "6030e7cb",
   "metadata": {},
   "outputs": [],
   "source": [
    "df['jobDegree']"
   ]
  },
  {
   "cell_type": "code",
   "execution_count": null,
   "id": "d0c9335e",
   "metadata": {},
   "outputs": [],
   "source": [
    "df3 = df.groupby('jobDegree').agg({'securityId': 'count'})"
   ]
  },
  {
   "cell_type": "code",
   "execution_count": null,
   "id": "03de2f91",
   "metadata": {},
   "outputs": [],
   "source": [
    "# sort by hand\n",
    "df4 = df3.loc[['学历不限', '中专/中技', '高中', '大专', '本科', '硕士']]"
   ]
  },
  {
   "cell_type": "code",
   "execution_count": null,
   "id": "e2a753a8",
   "metadata": {},
   "outputs": [],
   "source": [
    "# create a new column 'total' to calculate sum of 'securityId'\n",
    "df4['total'] = df4['securityId'].sum()"
   ]
  },
  {
   "cell_type": "code",
   "execution_count": null,
   "id": "0cb694eb",
   "metadata": {},
   "outputs": [],
   "source": [
    "# create a new column 'rate' to calculate the rate of each job degree\n",
    "df4['rate'] = round(df4['securityId']/df4['total'], 2)"
   ]
  },
  {
   "cell_type": "code",
   "execution_count": null,
   "id": "bf7734b0",
   "metadata": {},
   "outputs": [],
   "source": [
    "df4"
   ]
  },
  {
   "cell_type": "code",
   "execution_count": null,
   "id": "24f6675e",
   "metadata": {},
   "outputs": [],
   "source": [
    "pie = Pie()\n",
    "pie.add(\n",
    "    series_name=\"\",\n",
    "    data_pair=[list(z) for z in zip(df4.index, df4['rate'])],\n",
    "    radius=[\"0%\", \"75%\"],\n",
    "    center=[\"50%\", \"50%\"],\n",
    "    label_opts=opts.LabelOpts(formatter=\"{b}: {d}%\")\n",
    ")\n",
    "pie.set_global_opts(title_opts=opts.TitleOpts(title=\"Job Degree Distribution\", pos_left=\"left\", pos_top=\"0.5%\"),\n",
    "                     legend_opts=opts.LegendOpts(pos_left=\"right\", orient=\"vertical\"))\n",
    "pie.render_notebook()"
   ]
  },
  {
   "cell_type": "markdown",
   "id": "3b60abd1",
   "metadata": {},
   "source": [
    "- From the data, we can see that 55% jobs require Bachelor degree. "
   ]
  },
  {
   "cell_type": "markdown",
   "id": "48c4ad60",
   "metadata": {},
   "source": [
    "##### brandStageName"
   ]
  },
  {
   "cell_type": "code",
   "execution_count": null,
   "id": "591b0b60",
   "metadata": {},
   "outputs": [],
   "source": [
    "df['brandStageName']"
   ]
  },
  {
   "cell_type": "code",
   "execution_count": null,
   "id": "ae668f96",
   "metadata": {},
   "outputs": [],
   "source": [
    "df5 = df.groupby('brandStageName').agg({'securityId': 'count'})"
   ]
  },
  {
   "cell_type": "code",
   "execution_count": null,
   "id": "039c083d",
   "metadata": {},
   "outputs": [],
   "source": [
    "df5"
   ]
  },
  {
   "cell_type": "code",
   "execution_count": null,
   "id": "eee23459",
   "metadata": {},
   "outputs": [],
   "source": [
    "# sort by hand\n",
    "df6 = df5.loc[['不需要融资', '未融资', '天使轮', 'A轮', 'B轮', 'C轮', 'D轮及以上', '已上市']]"
   ]
  },
  {
   "cell_type": "code",
   "execution_count": null,
   "id": "142eb0e5",
   "metadata": {},
   "outputs": [],
   "source": [
    "# create a new column 'total' to calculate the sum of 'securityId'\n",
    "df6['total'] = df6['securityId'].sum()"
   ]
  },
  {
   "cell_type": "code",
   "execution_count": null,
   "id": "0139f85e",
   "metadata": {},
   "outputs": [],
   "source": [
    "# create a new column 'rate' to calculate the rate of each brand stage\n",
    "df6['rate'] = round(df6['securityId']/df6['total'], 2)"
   ]
  },
  {
   "cell_type": "code",
   "execution_count": null,
   "id": "4d30dbe7",
   "metadata": {},
   "outputs": [],
   "source": [
    "df6"
   ]
  },
  {
   "cell_type": "code",
   "execution_count": null,
   "id": "818cbaac",
   "metadata": {},
   "outputs": [],
   "source": [
    "pie = Pie()\n",
    "pie.add(\n",
    "    series_name=\"\",\n",
    "    data_pair=[list(z) for z in zip(df6.index, df6['rate'])],\n",
    "    radius=[\"30%\", \"75%\"],\n",
    "    center=[\"50%\", \"50%\"],\n",
    "    label_opts=opts.LabelOpts(formatter=\"{b}: {d}%\")\n",
    ")\n",
    "pie.set_global_opts(title_opts=opts.TitleOpts(title=\"Company Stage Distribution\"), \n",
    "                     legend_opts=opts.LegendOpts(pos_left=\"right\"))\n",
    "pie.render_notebook()"
   ]
  },
  {
   "cell_type": "markdown",
   "id": "d701730f",
   "metadata": {},
   "source": [
    "- From the data, we can see that 29% of companies do not require financing, 49% have not yet obtained financing, and only 7% have already gone public."
   ]
  },
  {
   "cell_type": "markdown",
   "id": "56c5d92c",
   "metadata": {},
   "source": [
    "##### brandIndustry"
   ]
  },
  {
   "cell_type": "code",
   "execution_count": null,
   "id": "28f30360",
   "metadata": {},
   "outputs": [],
   "source": [
    "df['brandIndustry']"
   ]
  },
  {
   "cell_type": "code",
   "execution_count": null,
   "id": "362adb60",
   "metadata": {},
   "outputs": [],
   "source": [
    "df.groupby('brandIndustry').agg({'securityId': 'count'}).sort_values(by='securityId', ascending=False).head(10)"
   ]
  },
  {
   "cell_type": "markdown",
   "id": "cc5e0829",
   "metadata": {},
   "source": [
    "- From the data, we can see that the top four industries for data analysts are computer software, internet, consulting, and big data."
   ]
  },
  {
   "cell_type": "markdown",
   "id": "06db713b",
   "metadata": {},
   "source": [
    "##### salaryDesc"
   ]
  },
  {
   "cell_type": "code",
   "execution_count": null,
   "id": "f2aa0740",
   "metadata": {},
   "outputs": [],
   "source": [
    "df['salaryDesc']"
   ]
  },
  {
   "cell_type": "code",
   "execution_count": null,
   "id": "ac43175b",
   "metadata": {},
   "outputs": [],
   "source": [
    "# Function to transform salary description into a range of annual salary\n",
    "def salary_trans(x):\n",
    "    #'5-10K·13薪'\n",
    "    s = x.split('·')\n",
    "    if len(s) == 2:\n",
    "        m = s[1].replace('薪', '')\n",
    "        r = s[0].lower().replace('k', '').split('-')\n",
    "        y_min = int(r[0]) * 1000*int(m)\n",
    "        y_max = int(r[1]) * 1000*int(m)\n",
    "        return [y_min, y_max]\n",
    "    # '1500-2000元/月'\n",
    "    elif s[0].find('月') != -1:\n",
    "        r = s[0].replace('元/月', '').split('-')\n",
    "        y_min = int(r[0]) * 12\n",
    "        y_max = int(r[1]) * 12\n",
    "        return [y_min, y_max]\n",
    "    # '90-100元/天'\n",
    "    elif s[0].find('天') != -1:\n",
    "        r = s[0].replace('元/天', '').split('-')\n",
    "        y_min = int(r[0]) * 5 * 52\n",
    "        y_max = int(r[1]) * 5 * 52\n",
    "        return [y_min, y_max]\n",
    "     # '25-70元/时'\n",
    "    elif s[0].find('时') != -1:    \n",
    "        r = s[0].replace('元/时', '').split('-')\n",
    "        y_min = int(r[0]) * 8 * 5 * 52\n",
    "        y_max = int(r[1]) * 8 * 5 * 52\n",
    "        return [y_min, y_max]\n",
    "    # '1000-4000元/周'\n",
    "    elif s[0].find('周') != -1:\n",
    "        r = s[0].replace('元/周', '').split('-')\n",
    "        y_min = int(r[0]) * 52\n",
    "        y_max = int(r[1]) * 52\n",
    "        return [y_min, y_max]\n",
    "    # '5-10K'\n",
    "    elif s[0].find('K') != -1:\n",
    "        r = s[0].lower().replace('k', '').split('-')\n",
    "        y_min = int(r[0]) * 1000 * 12\n",
    "        y_max = int(r[1]) * 1000 * 12\n",
    "        return [y_min, y_max]\n",
    "    else:\n",
    "        return [0, 0]"
   ]
  },
  {
   "cell_type": "code",
   "execution_count": null,
   "id": "75bf4350",
   "metadata": {},
   "outputs": [],
   "source": [
    "df['annualSalary'] = df['salaryDesc'].apply(salary_trans) "
   ]
  },
  {
   "cell_type": "code",
   "execution_count": null,
   "id": "271bfbd7",
   "metadata": {},
   "outputs": [],
   "source": [
    "df['middle_annualSalary'] = df['annualSalary'].apply(lambda x: (x[0] + x[1]) / 2)"
   ]
  },
  {
   "cell_type": "code",
   "execution_count": null,
   "id": "171d34ff",
   "metadata": {},
   "outputs": [],
   "source": [
    "df['month_middle'] = df['middle_annualSalary'] / 12"
   ]
  },
  {
   "cell_type": "code",
   "execution_count": null,
   "id": "80de916c",
   "metadata": {},
   "outputs": [],
   "source": [
    "df['month_middle']"
   ]
  },
  {
   "cell_type": "code",
   "execution_count": null,
   "id": "3c94a24c",
   "metadata": {},
   "outputs": [],
   "source": [
    "df[\"month_group\"] = pd.cut(df['month_middle'], bins=[0, 3000, 5000, 8000, 10000, 13000, 15000, 20000, 25000, 30000, 35000, 40000])"
   ]
  },
  {
   "cell_type": "code",
   "execution_count": null,
   "id": "75122a12",
   "metadata": {},
   "outputs": [],
   "source": [
    "df7 = df.groupby('month_group').agg({'securityId': 'count'})"
   ]
  },
  {
   "cell_type": "code",
   "execution_count": null,
   "id": "59061c4d",
   "metadata": {},
   "outputs": [],
   "source": [
    "bar = Bar()\n",
    "bar.add_xaxis(df7.index.astype(str).tolist())\n",
    "bar.add_yaxis(\"Number of Jobs\", df7['securityId'].tolist())\n",
    "bar.set_global_opts(title_opts=opts.TitleOpts(title=\"Monthly Salary Distribution\"),\n",
    "                        xaxis_opts=opts.AxisOpts(name=\"Monthly Salary\", axislabel_opts=opts.LabelOpts(rotate=45)),\n",
    "                        yaxis_opts=opts.AxisOpts(name=\"Number of Jobs\"),\n",
    "                        legend_opts=opts.LegendOpts(is_show=False))\n",
    "bar.width = \"1100px\"\n",
    "bar.render_notebook()"
   ]
  },
  {
   "cell_type": "markdown",
   "id": "8e11cc41",
   "metadata": {},
   "source": [
    "- Based on the data results, there are 107 companies offering a monthly salary of 5,000 to 8,000 yuan, followed by 58 companies offering 3,000 to 5,000 yuan, 48 companies offering 8,000 to 10,000 yuan, and 47 companies offering 10,000 to 13,000 yuan."
   ]
  },
  {
   "cell_type": "markdown",
   "id": "be754fa8",
   "metadata": {},
   "source": []
  }
 ],
 "metadata": {
  "kernelspec": {
   "display_name": "base",
   "language": "python",
   "name": "python3"
  },
  "language_info": {
   "codemirror_mode": {
    "name": "ipython",
    "version": 3
   },
   "file_extension": ".py",
   "mimetype": "text/x-python",
   "name": "python",
   "nbconvert_exporter": "python",
   "pygments_lexer": "ipython3",
   "version": "3.12.3"
  }
 },
 "nbformat": 4,
 "nbformat_minor": 5
}
